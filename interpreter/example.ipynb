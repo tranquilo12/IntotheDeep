{
 "cells": [
  {
   "cell_type": "code",
   "execution_count": null,
   "metadata": {},
   "outputs": [],
   "source": [
    "# POST /execute\n",
    "import subprocess\n",
    "import json\n",
    "\n",
    "# Get the code from the request payload\n",
    "code = json.loads(REQUEST)[\"body\"][\"code\"] # type: ignore\n",
    "\n",
    "try:\n",
    "    process = subprocess.Popen(\n",
    "        [\"python\", \"-c\", code],\n",
    "        stdout=subprocess.PIPE,\n",
    "        stderr=subprocess.PIPE,\n",
    "        text=True\n",
    "    )\n",
    "    stdout, stderr = process.communicate()\n",
    "    if process.returncode == 0:\n",
    "        result = {\"status\": \"success\", \"stdout\": stdout, \"stderr\": stderr}\n",
    "    else:\n",
    "        result = {\"status\": \"error\", \"stdout\": stdout, \"stderr\": stderr}\n",
    "except Exception as e:\n",
    "    result = {\"status\": \"error\", \"error\": str(e)}\n",
    "\n",
    "print(json.dumps(result))"
   ]
  }
 ],
 "metadata": {
  "language_info": {
   "name": "python"
  }
 },
 "nbformat": 4,
 "nbformat_minor": 2
}
