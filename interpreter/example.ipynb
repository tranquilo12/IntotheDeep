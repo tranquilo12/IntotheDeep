{
    "cells": [
        {
            "cell_type": "code",
            "execution_count": null,
            "metadata": {},
            "outputs": [],
            "source": [
                "# POST /execute\n",
                "import subprocess\n",
                "import json\n",
                "\n",
                "# Get the code from the request payload\n",
                "code = json.loads(REQUEST)[\"body\"][\"code\"] # type: ignore\n",
                "\n",
                "try:\n",
                "    process = subprocess.Popen(\n",
                "        [\"python\", \"-c\", code],\n",
                "        stdout=subprocess.PIPE,\n",
                "        stderr=subprocess.PIPE,\n",
                "        text=True\n",
                "    )\n",
                "    stdout, stderr = process.communicate()\n",
                "    if process.returncode == 0:\n",
                "        result = {\"status\": \"success\", \"stdout\": stdout, \"stderr\": stderr}\n",
                "    else:\n",
                "        result = {\"status\": \"error\", \"stdout\": stdout, \"stderr\": stderr}\n",
                "except Exception as e:\n",
                "    result = {\"status\": \"error\", \"error\": str(e)}\n",
                "\n",
                "print(json.dumps(result))"
            ]
        }
    ],
    "metadata": {
        "kernelspec": {
            "display_name": "Python 3 (ipykernel)",
            "language": "python",
            "name": "python3"
        },
        "language_info": {
            "codemirror_mode": {
                "name": "ipython",
                "version": 3
            },
            "file_extension": ".py",
            "mimetype": "text/x-python",
            "name": "python",
            "nbconvert_exporter": "python",
            "pygments_lexer": "ipython3",
            "version": "3.12.2"
        }
    },
    "nbformat": 4,
    "nbformat_minor": 4
}