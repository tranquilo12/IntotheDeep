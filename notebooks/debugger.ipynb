{
 "cells": [
  {
   "cell_type": "code",
   "execution_count": 1,
   "metadata": {},
   "outputs": [
    {
     "name": "stderr",
     "output_type": "stream",
     "text": [
      "/Users/shriramsunder/Projects/IntotheDeep/.venv/lib/python3.12/site-packages/tqdm/auto.py:21: TqdmWarning: IProgress not found. Please update jupyter and ipywidgets. See https://ipywidgets.readthedocs.io/en/stable/user_install.html\n",
      "  from .autonotebook import tqdm as notebook_tqdm\n",
      "/Users/shriramsunder/Projects/IntotheDeep/.venv/lib/python3.12/site-packages/pydantic/_internal/_fields.py:160: UserWarning: Field \"model_name\" has conflict with protected namespace \"model_\".\n",
      "\n",
      "You may be able to resolve this warning by setting `model_config['protected_namespaces'] = ()`.\n",
      "  warnings.warn(\n"
     ]
    }
   ],
   "source": [
    "# import os\n",
    "# import sys\n",
    "# from openai import OpenAI\n",
    "# from utils import str_to_path\n",
    "\n",
    "# ROOT_PATH = \"C:\\\\Users\\\\SHIRAM\"\n",
    "# root_path = str_to_path(path=ROOT_PATH)\n",
    "# rep_path = str_to_path(path=f\"{ROOT_PATH}\\\\Documents\\\\markinghelperAI\")\n",
    "\n",
    "import asyncio\n",
    "import nest_asyncio\n",
    "from code_reader import respond\n",
    "\n",
    "nest_asyncio.apply()\n",
    "\n",
    "async def start_conversation():\n",
    "    response = respond(\n",
    "        msg=\"Give me a nice and simple python code, that prints hello world.\",\n",
    "        history=[],\n",
    "        file_paths=[],\n",
    "        model_name='gpt-3.5-turbo',\n",
    "        max_tokens=100,\n",
    "        new_system_prompt=None,\n",
    "        prompt_options=[\"Code Only\"]\n",
    "    )\n",
    "    return response"
   ]
  },
  {
   "cell_type": "code",
   "execution_count": 2,
   "metadata": {},
   "outputs": [],
   "source": [
    "result = asyncio.run(start_conversation())\n",
    "result = [ele async for ele in result]"
   ]
  },
  {
   "cell_type": "code",
   "execution_count": 3,
   "metadata": {},
   "outputs": [
    {
     "data": {
      "text/plain": [
       "['The above code has generated the following output: Hello, World!\\n']"
      ]
     },
     "execution_count": 3,
     "metadata": {},
     "output_type": "execute_result"
    }
   ],
   "source": [
    "result"
   ]
  }
 ],
 "metadata": {
  "kernelspec": {
   "display_name": ".venv",
   "language": "python",
   "name": "python3"
  },
  "language_info": {
   "codemirror_mode": {
    "name": "ipython",
    "version": 3
   },
   "file_extension": ".py",
   "mimetype": "text/x-python",
   "name": "python",
   "nbconvert_exporter": "python",
   "pygments_lexer": "ipython3",
   "version": "3.12.2"
  }
 },
 "nbformat": 4,
 "nbformat_minor": 2
}
