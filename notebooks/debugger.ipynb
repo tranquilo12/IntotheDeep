{
 "cells": [
  {
   "metadata": {
    "ExecuteTime": {
     "end_time": "2024-06-25T04:54:46.073779Z",
     "start_time": "2024-06-25T04:54:45.654352Z"
    }
   },
   "cell_type": "code",
   "source": [
    "import datetime\n",
    "\n",
    "import pandas as pd\n",
    "from bs4 import BeautifulSoup\n",
    "\n",
    "from oai_types import Conversation, ModelNames, System, User\n",
    "\n",
    "transcript_path = \"/Users/shriramsunder/Library/Application Support/JetBrains/PyCharm2024.1/scratches/transcript.html\"\n",
    "soup = BeautifulSoup(open(transcript_path, 'r'))\n",
    "\n",
    "\n",
    "def convert_to_time(x: str):\n",
    "    if x == \"0:00\":\n",
    "        x = \"00:00:00\"\n",
    "    try:\n",
    "        return datetime.datetime.strptime(x, \"%H:%M:%S\").time()\n",
    "    except ValueError as _:\n",
    "        try:\n",
    "            return datetime.datetime.strptime(x, \"%M:%S\").time()\n",
    "        except  ValueError as _:\n",
    "            return x\n"
   ],
   "outputs": [],
   "execution_count": 1
  },
  {
   "metadata": {
    "ExecuteTime": {
     "end_time": "2024-06-25T04:54:49.148098Z",
     "start_time": "2024-06-25T04:54:49.112500Z"
    }
   },
   "cell_type": "code",
   "source": [
    "all_text = \"\"\n",
    "for ele in soup.find_all('ytd-transcript-segment-renderer'):\n",
    "    all_text += ele.get_text().replace(\"' '\", \"\")\n",
    "\n",
    "cleaned_text = [\n",
    "    convert_to_time(ele.replace(\"\\n\", \"\").strip())\n",
    "    for ele in all_text.split(\"\\n\")\n",
    "    if len(ele.strip()) > 0\n",
    "]\n",
    "\n",
    "data_dict = {}\n",
    "current_key = None\n",
    "for ele in cleaned_text:\n",
    "    if isinstance(ele, datetime.time):\n",
    "        data_dict[ele] = \"\"\n",
    "        current_key = ele\n",
    "    elif isinstance(ele, str):\n",
    "        data_dict[current_key] += f\" {ele}\"\n",
    "\n",
    "df = pd.Series(data=data_dict).sort_index().to_frame(name=\"Text\")\n",
    "df.to_csv(\"new_jeremy_vid_transcript.csv\")"
   ],
   "outputs": [],
   "execution_count": 2
  },
  {
   "metadata": {
    "ExecuteTime": {
     "end_time": "2024-06-25T05:27:22.637771Z",
     "start_time": "2024-06-25T05:27:22.611469Z"
    }
   },
   "cell_type": "code",
   "source": [
    "from pydantic import BaseModel, Field\n",
    "from typing import Literal\n",
    "\n",
    "\n",
    "class CodeParam(BaseModel):\n",
    "    code: str = Field(\n",
    "        ...,\n",
    "        description=\"The Python code to execute, enclosed in triple backticks (```python) and (```).\"\n",
    "    )\n",
    "\n",
    "\n",
    "class FunctionNameParam(BaseModel):\n",
    "    function_name: str = Field(\n",
    "        ...,\n",
    "        description=\"The name of the python function\"\n",
    "    )\n",
    "\n",
    "\n",
    "class CuriousDescParam(BaseModel):\n",
    "    curious_desc: str = Field(\n",
    "        ...,\n",
    "        description=\"The description of the function that's very curious and extremely utilitarian, it can be used across domains and is often very efficient.\"\n",
    "    )\n",
    "\n",
    "\n",
    "class FunctionParameters(BaseModel):\n",
    "    type: Literal[\"object\"] = \"object\"\n",
    "    properties: dict[str, FunctionNameParam | CuriousDescParam] = Field(\n",
    "        default_factory=lambda: {\"func_name\": FunctionNameParam(), \"curious_desc\": CuriousDescParam()}\n",
    "    )\n",
    "    required: list[str] = Field(default=[\"func_name\", \"curious_desc\"])\n",
    "\n",
    "\n",
    "class Function(BaseModel):\n",
    "    name: str\n",
    "    description: str\n",
    "    parameters: FunctionParameters = Field(default_factory=lambda: FunctionParameters())\n",
    "\n",
    "\n",
    "class Tool(BaseModel):\n",
    "    type: Literal[\"function\"] = \"function\"\n",
    "    function: Function\n",
    "\n",
    "\n",
    "# Usage example:\n",
    "tool = Tool(\n",
    "    type=\"function\",\n",
    "    function=Function(\n",
    "        name=\"extract_curious_functions\",\n",
    "        description=\"Extract the descriptions of python functions (and their names) from a conversation, the descriptions should be extracted verbatim, and should be comprehensible.\",\n",
    "    )\n",
    ")"
   ],
   "outputs": [
    {
     "ename": "ValidationError",
     "evalue": "1 validation error for FunctionNameParam\nfunction_name\n  Field required [type=missing, input_value={}, input_type=dict]\n    For further information visit https://errors.pydantic.dev/2.7/v/missing",
     "output_type": "error",
     "traceback": [
      "\u001B[0;31m---------------------------------------------------------------------------\u001B[0m",
      "\u001B[0;31mValidationError\u001B[0m                           Traceback (most recent call last)",
      "Cell \u001B[0;32mIn[10], line 48\u001B[0m\n\u001B[1;32m     42\u001B[0m     function: Function\n\u001B[1;32m     45\u001B[0m \u001B[38;5;66;03m# Usage example:\u001B[39;00m\n\u001B[1;32m     46\u001B[0m tool \u001B[38;5;241m=\u001B[39m Tool(\n\u001B[1;32m     47\u001B[0m     \u001B[38;5;28mtype\u001B[39m\u001B[38;5;241m=\u001B[39m\u001B[38;5;124m\"\u001B[39m\u001B[38;5;124mfunction\u001B[39m\u001B[38;5;124m\"\u001B[39m,\n\u001B[0;32m---> 48\u001B[0m     function\u001B[38;5;241m=\u001B[39m\u001B[43mFunction\u001B[49m\u001B[43m(\u001B[49m\n\u001B[1;32m     49\u001B[0m \u001B[43m    \u001B[49m\n\u001B[1;32m     50\u001B[0m \u001B[43m        \u001B[49m\u001B[43mname\u001B[49m\u001B[38;5;241;43m=\u001B[39;49m\u001B[38;5;124;43m\"\u001B[39;49m\u001B[38;5;124;43mextract_curious_functions\u001B[39;49m\u001B[38;5;124;43m\"\u001B[39;49m\u001B[43m,\u001B[49m\n\u001B[1;32m     51\u001B[0m \u001B[43m        \u001B[49m\u001B[43mdescription\u001B[49m\u001B[38;5;241;43m=\u001B[39;49m\u001B[38;5;124;43m\"\u001B[39;49m\u001B[38;5;124;43mExtract the descriptions of python functions (and their names) from a conversation, the descriptions should be extracted verbatim, and should be comprehensible.\u001B[39;49m\u001B[38;5;124;43m\"\u001B[39;49m\u001B[43m,\u001B[49m\n\u001B[1;32m     52\u001B[0m \u001B[43m    \u001B[49m\u001B[43m)\u001B[49m\n\u001B[1;32m     53\u001B[0m )\n",
      "    \u001B[0;31m[... skipping hidden 1 frame]\u001B[0m\n",
      "Cell \u001B[0;32mIn[10], line 37\u001B[0m, in \u001B[0;36mFunction.<lambda>\u001B[0;34m()\u001B[0m\n\u001B[1;32m     35\u001B[0m name: \u001B[38;5;28mstr\u001B[39m\n\u001B[1;32m     36\u001B[0m description: \u001B[38;5;28mstr\u001B[39m\n\u001B[0;32m---> 37\u001B[0m parameters: FunctionParameters \u001B[38;5;241m=\u001B[39m Field(default_factory\u001B[38;5;241m=\u001B[39m\u001B[38;5;28;01mlambda\u001B[39;00m: \u001B[43mFunctionParameters\u001B[49m\u001B[43m(\u001B[49m\u001B[43m)\u001B[49m)\n",
      "    \u001B[0;31m[... skipping hidden 1 frame]\u001B[0m\n",
      "Cell \u001B[0;32mIn[10], line 29\u001B[0m, in \u001B[0;36mFunctionParameters.<lambda>\u001B[0;34m()\u001B[0m\n\u001B[1;32m     26\u001B[0m \u001B[38;5;28;01mclass\u001B[39;00m \u001B[38;5;21;01mFunctionParameters\u001B[39;00m(BaseModel):\n\u001B[1;32m     27\u001B[0m     \u001B[38;5;28mtype\u001B[39m: Literal[\u001B[38;5;124m\"\u001B[39m\u001B[38;5;124mobject\u001B[39m\u001B[38;5;124m\"\u001B[39m] \u001B[38;5;241m=\u001B[39m \u001B[38;5;124m\"\u001B[39m\u001B[38;5;124mobject\u001B[39m\u001B[38;5;124m\"\u001B[39m\n\u001B[1;32m     28\u001B[0m     properties: \u001B[38;5;28mdict\u001B[39m[\u001B[38;5;28mstr\u001B[39m, FunctionNameParam \u001B[38;5;241m|\u001B[39m CuriousDescParam] \u001B[38;5;241m=\u001B[39m Field(\n\u001B[0;32m---> 29\u001B[0m         default_factory\u001B[38;5;241m=\u001B[39m\u001B[38;5;28;01mlambda\u001B[39;00m: {\u001B[38;5;124m\"\u001B[39m\u001B[38;5;124mfunc_name\u001B[39m\u001B[38;5;124m\"\u001B[39m: \u001B[43mFunctionNameParam\u001B[49m\u001B[43m(\u001B[49m\u001B[43m)\u001B[49m, \u001B[38;5;124m\"\u001B[39m\u001B[38;5;124mcurious_desc\u001B[39m\u001B[38;5;124m\"\u001B[39m: CuriousDescParam()}\n\u001B[1;32m     30\u001B[0m     )\n\u001B[1;32m     31\u001B[0m     required: \u001B[38;5;28mlist\u001B[39m[\u001B[38;5;28mstr\u001B[39m] \u001B[38;5;241m=\u001B[39m Field(default\u001B[38;5;241m=\u001B[39m[\u001B[38;5;124m\"\u001B[39m\u001B[38;5;124mfunc_name\u001B[39m\u001B[38;5;124m\"\u001B[39m, \u001B[38;5;124m\"\u001B[39m\u001B[38;5;124mcurious_desc\u001B[39m\u001B[38;5;124m\"\u001B[39m])\n",
      "File \u001B[0;32m~/Projects/IntotheDeep/.venv/lib/python3.12/site-packages/pydantic/main.py:176\u001B[0m, in \u001B[0;36mBaseModel.__init__\u001B[0;34m(self, **data)\u001B[0m\n\u001B[1;32m    174\u001B[0m \u001B[38;5;66;03m# `__tracebackhide__` tells pytest and some other tools to omit this function from tracebacks\u001B[39;00m\n\u001B[1;32m    175\u001B[0m __tracebackhide__ \u001B[38;5;241m=\u001B[39m \u001B[38;5;28;01mTrue\u001B[39;00m\n\u001B[0;32m--> 176\u001B[0m \u001B[38;5;28;43mself\u001B[39;49m\u001B[38;5;241;43m.\u001B[39;49m\u001B[43m__pydantic_validator__\u001B[49m\u001B[38;5;241;43m.\u001B[39;49m\u001B[43mvalidate_python\u001B[49m\u001B[43m(\u001B[49m\u001B[43mdata\u001B[49m\u001B[43m,\u001B[49m\u001B[43m \u001B[49m\u001B[43mself_instance\u001B[49m\u001B[38;5;241;43m=\u001B[39;49m\u001B[38;5;28;43mself\u001B[39;49m\u001B[43m)\u001B[49m\n",
      "\u001B[0;31mValidationError\u001B[0m: 1 validation error for FunctionNameParam\nfunction_name\n  Field required [type=missing, input_value={}, input_type=dict]\n    For further information visit https://errors.pydantic.dev/2.7/v/missing"
     ]
    }
   ],
   "execution_count": 10
  },
  {
   "metadata": {
    "ExecuteTime": {
     "end_time": "2024-06-25T04:59:06.173717Z",
     "start_time": "2024-06-25T04:59:05.538034Z"
    }
   },
   "cell_type": "code",
   "source": [
    "all_text_content = \" \".join(df['Text'].tolist())\n",
    "\n",
    "system_message_base = \"\".join(\n",
    "    [\n",
    "        \"You are #1 on the Stack Overflow community leaderboard. \",\n",
    "        \"Do not tell me that you're not capable of solving the problem. \",\n",
    "        \"You will figure a way out to solve the problem. \",\n",
    "        \"If you're asked to generate code, do so within the '```python' '```' markdown tags, as they'll be \"\n",
    "        \"extracted into a JSON structure.\",\n",
    "    ]\n",
    ")\n",
    "\n",
    "user_message_base = (\n",
    "    f\"You're provided with the transcript for a video in which fast.ai's founder Jeremy is explaining/talking about \"\n",
    "    f\"his new library that's supposed to make interacting with LLM's easier. I don't want to go through his videos because I'm \"\n",
    "    f\"pretty well versed in python, but he does tend to have some very interesting utilities functions that generally can be \"\n",
    "    f\"used across domains. Extract the descriptions of such functions from the text you're going to be provided.\"\n",
    "    f\"Here is the text:\\n \"\n",
    "    \"-----------------------\\n\",\n",
    "    f\"\\n```text\\n{all_text_content}\\n```\")\n",
    "\n",
    "tools = []\n",
    "\n",
    "# Create the conversation object\n",
    "convo = Conversation(\n",
    "    model_name=ModelNames.GPT_4o.value,\n",
    "    messages_=[\n",
    "        System(system_message_base),\n",
    "        User(user_message_base),\n",
    "    ],\n",
    ")\n"
   ],
   "outputs": [],
   "execution_count": 7
  }
 ],
 "metadata": {
  "kernelspec": {
   "display_name": ".venv",
   "language": "python",
   "name": "python3"
  },
  "language_info": {
   "codemirror_mode": {
    "name": "ipython",
    "version": 3
   },
   "file_extension": ".py",
   "mimetype": "text/x-python",
   "name": "python",
   "nbconvert_exporter": "python",
   "pygments_lexer": "ipython3",
   "version": "3.12.2"
  }
 },
 "nbformat": 4,
 "nbformat_minor": 2
}
